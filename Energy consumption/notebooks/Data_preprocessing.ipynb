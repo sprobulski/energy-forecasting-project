{
 "cells": [
  {
   "cell_type": "code",
   "execution_count": 1,
   "metadata": {},
   "outputs": [],
   "source": [
    "import sys\n",
    "import os\n",
    "sys.path.append(os.path.abspath(os.path.join('..')))\n",
    "\n",
    "from dotenv import load_dotenv\n",
    "\n",
    "import pandas as pd\n",
    "import requests\n",
    "from pandas.tseries.holiday import USFederalHolidayCalendar\n",
    "from src.data_processing import get_weather, get_respondent_data, merge_datasets"
   ]
  },
  {
   "cell_type": "code",
   "execution_count": null,
   "metadata": {},
   "outputs": [],
   "source": [
    "load_dotenv(\"../.env\") \n",
    "api_key_weather = os.getenv(\"API_KEY_WEATHER\") # Weather API key from visualcrossing.com\n",
    "api_key_energy_consumption = os.getenv(\"API_KEY_ENERGY_CONSUMPTION\") # Energy consumption API key from US EIA\n"
   ]
  },
  {
   "cell_type": "code",
   "execution_count": 3,
   "metadata": {},
   "outputs": [],
   "source": [
    "location = \"Texas\"\n",
    "respondent = \"ERCO\"\n",
    "start_date = \"2023-07-01\"\n",
    "end_date = \"2023-12-31\"\n",
    "\n",
    "weather_file = \"../data/temperature_data_ercot_2023.csv\"\n",
    "energy_consumption_file = \"../data/ercot_energy_2023.csv\"\n",
    "merged_data_file = \"../data/merged_data_ercot_2023.csv\""
   ]
  },
  {
   "cell_type": "code",
   "execution_count": 9,
   "metadata": {},
   "outputs": [
    {
     "name": "stdout",
     "output_type": "stream",
     "text": [
      "Energy consumption data file already exists. Loading from file...\n"
     ]
    }
   ],
   "source": [
    "# Get energy consumption data\n",
    "if os.path.exists(energy_consumption_file):\n",
    "    print(\"Energy consumption data file already exists. Loading from file...\")\n",
    "    energy_consumption_df = pd.read_csv(energy_consumption_file)\n",
    "    energy_consumption_df['period'] = pd.to_datetime(energy_consumption_df['period'])\n",
    "else:\n",
    "    print(\"Energy consumption data file not found. Fetching data...\")\n",
    "    energy_consumption_df = get_respondent_data(respondent, api_key_energy_consumption, start_date, end_date)\n",
    "    energy_consumption_df.to_csv(energy_consumption_file, index=False)\n",
    "    print(\"Energy consumption data fetched and saved to 'data/ercot_energy_2023.csv' file.\")\n"
   ]
  },
  {
   "cell_type": "code",
   "execution_count": 11,
   "metadata": {},
   "outputs": [
    {
     "name": "stdout",
     "output_type": "stream",
     "text": [
      "Loading existing weather data from ../data/temperature_data_ercot_2023.csv\n"
     ]
    }
   ],
   "source": [
    "# Get weather data\n",
    "if os.path.exists(weather_file):\n",
    "    print(f\"Loading existing weather data from {weather_file}\")\n",
    "    weather_data = pd.read_csv(weather_file)\n",
    "    weather_data[\"period\"] = pd.to_datetime(weather_data[\"period\"])\n",
    "else:\n",
    "    print(\"Fetching weather data (API call)...\")\n",
    "    weather_data = get_weather(api_key_weather, location,start_date, end_date)\n",
    "    weather_data.to_csv(weather_file, index=False)\n",
    "    print(\"Temperature data fetched and saved to 'data/temperature_data_ercot_2023.csv'\")"
   ]
  },
  {
   "cell_type": "code",
   "execution_count": 12,
   "metadata": {},
   "outputs": [
    {
     "name": "stdout",
     "output_type": "stream",
     "text": [
      "Final dataset saved to 'data/merged_data_ercot_2023.csv' file\n"
     ]
    }
   ],
   "source": [
    "merged_data = merge_datasets(energy_consumption_df, weather_data,start_date, end_date)\n",
    "merged_data.to_csv(merged_data_file, index=True, header=True)\n",
    "print(\"Final dataset saved to 'data/merged_data_ercot_2023.csv' file\")"
   ]
  }
 ],
 "metadata": {
  "kernelspec": {
   "display_name": "Python 3",
   "language": "python",
   "name": "python3"
  },
  "language_info": {
   "codemirror_mode": {
    "name": "ipython",
    "version": 3
   },
   "file_extension": ".py",
   "mimetype": "text/x-python",
   "name": "python",
   "nbconvert_exporter": "python",
   "pygments_lexer": "ipython3",
   "version": "3.12.7"
  }
 },
 "nbformat": 4,
 "nbformat_minor": 2
}
